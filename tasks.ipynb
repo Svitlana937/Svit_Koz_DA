{
 "cells": [
  {
   "cell_type": "markdown",
   "metadata": {},
   "source": []
  },
  {
   "cell_type": "markdown",
   "metadata": {},
   "source": [
    "# Tasks"
   ]
  },
  {
   "cell_type": "markdown",
   "metadata": {},
   "source": [
    "## Task 1: Source the Data Set"
   ]
  },
  {
   "cell_type": "markdown",
   "metadata": {},
   "source": [
    "# What the load_iris() function returns.\n",
    "\n",
    "The load_iris() function comes from the sklearn.datasets module.\n",
    "\n",
    "When you use load_iris(), it gives you a special object (like a small box) that holds the Iris data set.\n",
    "\n",
    "Inside this object, you can find:\n",
    "\n",
    " - Data: A table with numbers. Each row is a flower, and the numbers describe the flower (like its petal size and sepal size).\n",
    "\n",
    " - Target: The types of flowers (for example: setosa, versicolor, virginica).\n",
    "\n",
    " - Feature names: The names of the things we measure (like \"sepal width\", \"petal length\", etc.).\n",
    "\n",
    " - Target names: The names of the flower types.\n",
    "\n",
    " - Other info: Some extra details (like description text).\n",
    "\n",
    "In short:\n",
    "   load_iris() gives you everything you need to work with the Iris flower data for learning and practice."
   ]
  },
  {
   "cell_type": "markdown",
   "metadata": {},
   "source": [
    "# Import the Iris data set from the sklearn.datasets module."
   ]
  },
  {
   "cell_type": "code",
   "execution_count": null,
   "metadata": {},
   "outputs": [
    {
     "name": "stdout",
     "output_type": "stream",
     "text": [
      "55\n"
     ]
    }
   ],
   "source": [
    "# First, we import the function\n",
    "\n",
    "from sklearn.datasets import load_iris\n",
    "\n",
    "# Then, we load the data\n",
    "\n",
    "iris = load_iris()\n",
    "\n",
    "# We can see what's inside\n",
    "\n",
    "print(iris.data)        # Shows the numbers (features)\n",
    "\n",
    "print(iris.target)      # Shows the flower types (0, 1, 2)\n",
    "\n",
    "print(iris.feature_names) # Shows the names of each feature\n",
    "\n",
    "print(iris.target_names)  # Shows the names of flower types"
   ]
  },
  {
   "cell_type": "markdown",
   "metadata": {},
   "source": [
    "## Task 2: Task 2 Title Here"
   ]
  },
  {
   "cell_type": "code",
   "execution_count": null,
   "metadata": {},
   "outputs": [],
   "source": []
  },
  {
   "cell_type": "markdown",
   "metadata": {},
   "source": [
    "## Task 3:Here We Go"
   ]
  },
  {
   "cell_type": "markdown",
   "metadata": {},
   "source": []
  },
  {
   "cell_type": "markdown",
   "metadata": {},
   "source": [
    "## Task 4: And So On..."
   ]
  },
  {
   "cell_type": "code",
   "execution_count": null,
   "metadata": {},
   "outputs": [],
   "source": []
  },
  {
   "cell_type": "markdown",
   "metadata": {},
   "source": [
    "## END"
   ]
  },
  {
   "cell_type": "code",
   "execution_count": null,
   "metadata": {},
   "outputs": [],
   "source": []
  }
 ],
 "metadata": {
  "kernelspec": {
   "display_name": "Python 3",
   "language": "python",
   "name": "python3"
  },
  "language_info": {
   "codemirror_mode": {
    "name": "ipython",
    "version": 3
   },
   "file_extension": ".py",
   "mimetype": "text/x-python",
   "name": "python",
   "nbconvert_exporter": "python",
   "pygments_lexer": "ipython3",
   "version": "3.12.1"
  }
 },
 "nbformat": 4,
 "nbformat_minor": 2
}
