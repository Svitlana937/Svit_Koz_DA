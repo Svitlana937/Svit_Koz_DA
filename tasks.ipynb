{
 "cells": [
  {
   "cell_type": "markdown",
   "metadata": {},
   "source": []
  },
  {
   "cell_type": "markdown",
   "metadata": {},
   "source": [
    "# Tasks"
   ]
  },
  {
   "cell_type": "markdown",
   "metadata": {},
   "source": [
    "## Task 1: Source the Data Set"
   ]
  },
  {
   "cell_type": "markdown",
   "metadata": {},
   "source": [
    "### What the load_iris() function returns.\n",
    "\n",
    "The `load_iris()` function comes from the `sklearn.datasets` module.\n",
    "\n",
    "When you use `load_iris()`, it gives you a special object (like a small box) that holds the Iris data set.\n",
    "\n",
    "Inside this object, you can find:\n",
    "\n",
    " - Data: A table with numbers. Each row is a flower, and the numbers describe the flower (like its petal size and sepal size).\n",
    "\n",
    " - Target: The types of flowers (for example: setosa, versicolor, virginica).\n",
    "\n",
    " - Feature names: The names of the things we measure (like \"sepal width\", \"petal length\", etc.).\n",
    "\n",
    " - Target names: The names of the flower types.\n",
    "\n",
    " - Other info: Some extra details (like description text).\n",
    "\n",
    "In short:\n",
    "   `load_iris()` gives you everything you need to work with the Iris flower data for learning and practice."
   ]
  },
  {
   "cell_type": "markdown",
   "metadata": {},
   "source": [
    "### Import the Iris data set from the sklearn.datasets module."
   ]
  },
  {
   "cell_type": "code",
   "execution_count": null,
   "metadata": {},
   "outputs": [
    {
     "name": "stdout",
     "output_type": "stream",
     "text": [
      "55\n"
     ]
    }
   ],
   "source": [
    "# First, we import the function\n",
    "\n",
    "from sklearn.datasets import load_iris\n",
    "\n",
    "# Then, we load the data\n",
    "\n",
    "iris = load_iris()\n",
    "\n",
    "# We can see what's inside\n",
    "\n",
    "print(iris.data)        # Shows the numbers (features)\n",
    "\n",
    "print(iris.target)      # Shows the flower types (0, 1, 2)\n",
    "\n",
    "print(iris.feature_names) # Shows the names of each feature\n",
    "\n",
    "print(iris.target_names)  # Shows the names of flower types"
   ]
  },
  {
   "cell_type": "markdown",
   "metadata": {},
   "source": [
    "## Task 2: Explore the Data Structure"
   ]
  },
  {
   "cell_type": "markdown",
   "metadata": {},
   "source": [
    "### Print and explain the shape of the data set, the first and last 5 rows of the data, the feature names, and the target classes.\n",
    "\n",
    "Here is the Python code for this:"
   ]
  },
  {
   "cell_type": "code",
   "execution_count": null,
   "metadata": {},
   "outputs": [],
   "source": [
    "from sklearn.datasets import load_iris\n",
    "\n",
    "# Load the data\n",
    "iris = load_iris()\n",
    "\n",
    "# Shape of the data\n",
    "print(\"Shape of data:\", iris.data.shape)\n",
    "\n",
    "# First 5 rows\n",
    "print(\"First 5 rows:\\n\", iris.data[:5])\n",
    "\n",
    "# Last 5 rows\n",
    "print(\"Last 5 rows:\\n\", iris.data[-5:])\n",
    "\n",
    "# Feature names\n",
    "print(\"Feature names:\", iris.feature_names)\n",
    "\n",
    "# Target classes (flower names)\n",
    "print(\"Target classes:\", iris.target_names)"
   ]
  },
  {
   "cell_type": "markdown",
   "metadata": {},
   "source": [
    "Let's explain each part:\n",
    "\n",
    " - Shape of data: \n",
    " iris.data.shape   tells us how big the table is.\n",
    " For example, (115, 4) means 115 flowers and 4 features (measurements) for each flower.\n",
    " \n",
    " - First 5 rows:\n",
    " iris.data[:5] shows the data for the first 5 flowers.\n",
    " Each flower has 4 numbers (like sepal length, sepal width, petal length, petal width).\n",
    "\n",
    " - Feature names:\n",
    " iris.feature_names shows the names of the measurements.\n",
    " For example: \"sepal length (cm)\", \"sepal width (cm)\", etc.\n",
    "\n",
    " - Target classes:\n",
    " iris.target_names tells us the real names of the flowers.\n",
    " For example: \"setosa\", \"versicolor\", \"virginica\"."
   ]
  },
  {
   "cell_type": "markdown",
   "metadata": {},
   "source": [
    "Short Example:\n",
    "We can imagine this:\n",
    "\n",
    " Shape of data: (150, 4)\n",
    "\n",
    " Feature names: ['sepal length (cm)', 'sepal width (cm)', 'petal length (cm)', 'petal width (cm)']\n",
    "\n",
    " Target classes: ['setosa' 'versicolor' 'virginica']\n",
    "\n",
    "  - 50 flowers.\n",
    "\n",
    "  - Each flower has 4 measurements.\n",
    "\n",
    "  - 3 types of flowers."
   ]
  },
  {
   "cell_type": "markdown",
   "metadata": {},
   "source": [
    "## Task 3:Summarize the Data"
   ]
  },
  {
   "cell_type": "markdown",
   "metadata": {},
   "source": [
    "#### For the summarize the Data I would like to use the Python code :"
   ]
  },
  {
   "cell_type": "code",
   "execution_count": null,
   "metadata": {},
   "outputs": [],
   "source": [
    "import pandas as pd\n",
    "from sklearn.datasets import load_iris\n",
    "\n",
    "# Load the Iris data\n",
    "iris = load_iris()\n",
    "\n",
    "# Create a pandas DataFrame\n",
    "df = pd.DataFrame(data=iris.data, columns=iris.feature_names)\n",
    "\n",
    "# Now calculate and display the statistics\n",
    "\n",
    "print(\"Mean:\\n\", df.mean())\n",
    "print(\"\\nMinimum:\\n\", df.min())\n",
    "print(\"\\nMaximum:\\n\", df.max())\n",
    "print(\"\\nStandard Deviation:\\n\", df.std())\n",
    "print(\"\\nMedian:\\n\", df.median())"
   ]
  },
  {
   "cell_type": "markdown",
   "metadata": {},
   "source": [
    " #### Explanation:\n",
    "\n",
    " - df.mean() → calculates the average value for each feature.\n",
    "\n",
    " - df.min() → finds the smallest number in each column.\n",
    "  \n",
    " - df.max() → finds the biggest number in each column.\n",
    "\n",
    " - df.std() → calculates the standard deviation (how spread out the numbers are).\n",
    "\n",
    " - df.median() → finds the middle value (not average, but center number)."
   ]
  },
  {
   "cell_type": "markdown",
   "metadata": {},
   "source": []
  },
  {
   "cell_type": "markdown",
   "metadata": {},
   "source": [
    "## Task 4: Visualize Features"
   ]
  },
  {
   "cell_type": "markdown",
   "metadata": {},
   "source": [
    "#### Plot histograms for each feature using `matplotlib`.\n",
    "\n",
    " First of all, we plot a histogram for each feature (each column in our dataset).\n",
    " \n",
    "  We use Matplotlib — a Python library for drawing pictures (plots, charts). \n",
    "\n",
    "  For example,"
   ]
  },
  {
   "cell_type": "code",
   "execution_count": null,
   "metadata": {},
   "outputs": [],
   "source": [
    "import matplotlib.pyplot as plt  # We import Matplotlib\n",
    "\n",
    "# Let's say your dataset is called 'data'\n",
    "# data = your DataFrame\n",
    "\n",
    "# For each column (feature) in your data:\n",
    "for column in data.columns:\n",
    "    plt.figure(figsize=(6, 4))  # Create a new figure (size 6x4)\n",
    "    plt.hist(data[column], bins=20, color='skyblue', edgecolor='black')  # Draw a histogram\n",
    "    plt.title(f'Histogram of {column}')  # Add a title\n",
    "    plt.xlabel(column)  # Label the x-axis\n",
    "    plt.ylabel('Frequency')  # Label the y-axis\n",
    "    plt.grid(True)  # Add a grid\n",
    "    plt.show()  # Show the plot"
   ]
  },
  {
   "cell_type": "code",
   "execution_count": null,
   "metadata": {},
   "outputs": [],
   "source": [
    "# 1. Import the needed libraries\n",
    "import pandas as pd      # To read the data\n",
    "import matplotlib.pyplot as plt   # To make the histograms\n",
    "\n",
    "# 2. Read the CSV file (change \"data.csv\" to your file name)\n",
    "data = pd.read_csv(\"data.csv\")\n",
    "\n",
    "# 3. Look at the first 5 rows (optional, just to see the data)\n",
    "print(data.head())\n",
    "\n",
    "# 4. Make a histogram for each column (feature) in the dataset\n",
    "for column in data.columns:\n",
    "    plt.figure()  # Start a new figure (new window for the plot)\n",
    "\n",
    "    # Make the histogram\n",
    "    plt.hist(data[column], bins=20, color='skyblue', edgecolor='black')  \n",
    "\n",
    "    # Add a title for the histogram\n",
    "    plt.title(f\"Histogram of {column}\")  \n",
    "\n",
    "    # Add labels for X and Y axes\n",
    "    plt.xlabel(column)        # X-axis = the feature name\n",
    "    plt.ylabel(\"Frequency\")   # Y-axis = how many times a value appears\n",
    "\n",
    "    # Show the histogram\n",
    "    plt.show()\n"
   ]
  },
  {
   "cell_type": "markdown",
   "metadata": {},
   "source": [
    "## Task 4 "
   ]
  },
  {
   "cell_type": "markdown",
   "metadata": {},
   "source": [
    "## END"
   ]
  },
  {
   "cell_type": "code",
   "execution_count": null,
   "metadata": {},
   "outputs": [],
   "source": []
  }
 ],
 "metadata": {
  "kernelspec": {
   "display_name": "Python 3",
   "language": "python",
   "name": "python3"
  },
  "language_info": {
   "codemirror_mode": {
    "name": "ipython",
    "version": 3
   },
   "file_extension": ".py",
   "mimetype": "text/x-python",
   "name": "python",
   "nbconvert_exporter": "python",
   "pygments_lexer": "ipython3",
   "version": "3.12.1"
  }
 },
 "nbformat": 4,
 "nbformat_minor": 2
}
